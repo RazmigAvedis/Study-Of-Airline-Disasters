{
 "cells": [
  {
   "cell_type": "code",
   "execution_count": 2,
   "metadata": {},
   "outputs": [],
   "source": [
    "import pandas as pd\n",
    "import numpy as np\n",
    "\n",
    "df = pd.read_csv(\"../Datasets/Plane Crashes.csv\")"
   ]
  },
  {
   "cell_type": "code",
   "execution_count": 3,
   "metadata": {},
   "outputs": [],
   "source": [
    "df[\"Survivors\"] = df[\"Crew on board\"] + df[\"Pax on board\"] - df[\"Crew fatalities\"] - df[\"PAX fatalities\"]"
   ]
  },
  {
   "cell_type": "code",
   "execution_count": 4,
   "metadata": {},
   "outputs": [],
   "source": [
    "flight_types_mapping = {\n",
    "    \"Test\": \"testing/training\",\n",
    "    \"Training\": \"testing/training\",\n",
    "    \"Calibration\": \"testing/training\",\n",
    "    \"Delivery\": \"delivery\",\n",
    "    \"Postal (mail)\": \"delivery\",\n",
    "    \"Supply\": \"delivery\",\n",
    "    \"Cargo\": \"delivery\",\n",
    "    \"Fire fighting\": \"support\",\n",
    "    \"Refuelling\": \"support\",\n",
    "    \"Spraying (Agricultural)\": \"support\",\n",
    "    \"Ambulance\": \"support\",\n",
    "    \"Ferry\": \"support\",\n",
    "    \"Topographic\": \"support\",\n",
    "    \"Humanitarian\": \"support\",\n",
    "    \"Calibration\": \"support\",\n",
    "    \"Meteorological / Weather\": \"support\",\n",
    "    \"Geographical / Geophysical / Scientific\": \"support\",\n",
    "    \"Aerial photography\": \"private/business\",\n",
    "    \"Scheduled Revenue Flight\": \"private/business\",\n",
    "    \"Private\": \"private/business\",\n",
    "    \"Charter/Taxi (Non Scheduled Revenue Flight)\": \"private/business\",\n",
    "    \"Demonstration\": \"private/business\",\n",
    "    \"Executive/Corporate/Business\": \"private/business\",\n",
    "    \"Cinematography\": \"private/business\",\n",
    "    \"Skydiving / Paratroopers\": \"private/business\",\n",
    "    \"Aerobatic\": \"private/business\",\n",
    "    \"Positioning\": \"private/business\",\n",
    "    \"Military\": \"government\",\n",
    "    \"Government\": \"government\",\n",
    "    \"Survey / Patrol / Reconnaissance\": \"government\",\n",
    "    \"Illegal (smuggling)\": \"illegal\",\n",
    "    \"Bombing\": \"illegal\"\n",
    "}"
   ]
  },
  {
   "cell_type": "code",
   "execution_count": 5,
   "metadata": {},
   "outputs": [],
   "source": [
    "df.dropna(subset=[\"Flight type\"], inplace=True)\n",
    "df[\"flight_group\"] = df[\"Flight type\"].map(flight_types_mapping)"
   ]
  },
  {
   "cell_type": "code",
   "execution_count": 22,
   "metadata": {},
   "outputs": [],
   "source": [
    "df_crash_cause = pd.DataFrame()\n",
    "for group in df[\"flight_group\"].unique():\n",
    "    df_tmp = pd.DataFrame()\n",
    "    df_tmp[\"group\"] = [group]\n",
    "    for crash_cause in df[\"Crash cause\"].unique():\n",
    "        df_tmp[crash_cause] = [len(df[(df[\"Crash cause\"] == crash_cause) & (df[\"flight_group\"] == group)])]\n",
    "    df_crash_cause = pd.concat([df_crash_cause,df_tmp])"
   ]
  },
  {
   "cell_type": "code",
   "execution_count": 23,
   "metadata": {},
   "outputs": [
    {
     "data": {
      "text/html": [
       "<div>\n",
       "<style scoped>\n",
       "    .dataframe tbody tr th:only-of-type {\n",
       "        vertical-align: middle;\n",
       "    }\n",
       "\n",
       "    .dataframe tbody tr th {\n",
       "        vertical-align: top;\n",
       "    }\n",
       "\n",
       "    .dataframe thead th {\n",
       "        text-align: right;\n",
       "    }\n",
       "</style>\n",
       "<table border=\"1\" class=\"dataframe\">\n",
       "  <thead>\n",
       "    <tr style=\"text-align: right;\">\n",
       "      <th></th>\n",
       "      <th>group</th>\n",
       "      <th>Technical failure</th>\n",
       "      <th>Unknown</th>\n",
       "      <th>Weather</th>\n",
       "      <th>Human factor</th>\n",
       "      <th>Other causes</th>\n",
       "      <th>Terrorism act, Hijacking, Sabotage</th>\n",
       "    </tr>\n",
       "  </thead>\n",
       "  <tbody>\n",
       "    <tr>\n",
       "      <th>0</th>\n",
       "      <td>testing/training</td>\n",
       "      <td>836</td>\n",
       "      <td>1457</td>\n",
       "      <td>105</td>\n",
       "      <td>1399</td>\n",
       "      <td>51</td>\n",
       "      <td>17</td>\n",
       "    </tr>\n",
       "    <tr>\n",
       "      <th>0</th>\n",
       "      <td>government</td>\n",
       "      <td>1188</td>\n",
       "      <td>2748</td>\n",
       "      <td>337</td>\n",
       "      <td>961</td>\n",
       "      <td>82</td>\n",
       "      <td>475</td>\n",
       "    </tr>\n",
       "    <tr>\n",
       "      <th>0</th>\n",
       "      <td>delivery</td>\n",
       "      <td>1011</td>\n",
       "      <td>949</td>\n",
       "      <td>259</td>\n",
       "      <td>1366</td>\n",
       "      <td>152</td>\n",
       "      <td>178</td>\n",
       "    </tr>\n",
       "    <tr>\n",
       "      <th>0</th>\n",
       "      <td>support</td>\n",
       "      <td>353</td>\n",
       "      <td>438</td>\n",
       "      <td>78</td>\n",
       "      <td>713</td>\n",
       "      <td>43</td>\n",
       "      <td>24</td>\n",
       "    </tr>\n",
       "    <tr>\n",
       "      <th>0</th>\n",
       "      <td>private/business</td>\n",
       "      <td>2712</td>\n",
       "      <td>3141</td>\n",
       "      <td>739</td>\n",
       "      <td>5285</td>\n",
       "      <td>293</td>\n",
       "      <td>192</td>\n",
       "    </tr>\n",
       "    <tr>\n",
       "      <th>0</th>\n",
       "      <td>illegal</td>\n",
       "      <td>101</td>\n",
       "      <td>213</td>\n",
       "      <td>10</td>\n",
       "      <td>191</td>\n",
       "      <td>6</td>\n",
       "      <td>376</td>\n",
       "    </tr>\n",
       "  </tbody>\n",
       "</table>\n",
       "</div>"
      ],
      "text/plain": [
       "              group  Technical failure  Unknown  Weather  Human factor  \\\n",
       "0  testing/training                836     1457      105          1399   \n",
       "0        government               1188     2748      337           961   \n",
       "0          delivery               1011      949      259          1366   \n",
       "0           support                353      438       78           713   \n",
       "0  private/business               2712     3141      739          5285   \n",
       "0           illegal                101      213       10           191   \n",
       "\n",
       "   Other causes  Terrorism act, Hijacking, Sabotage  \n",
       "0            51                                  17  \n",
       "0            82                                 475  \n",
       "0           152                                 178  \n",
       "0            43                                  24  \n",
       "0           293                                 192  \n",
       "0             6                                 376  "
      ]
     },
     "execution_count": 23,
     "metadata": {},
     "output_type": "execute_result"
    }
   ],
   "source": [
    "df_crash_cause"
   ]
  }
 ],
 "metadata": {
  "kernelspec": {
   "display_name": ".venv",
   "language": "python",
   "name": "python3"
  },
  "language_info": {
   "codemirror_mode": {
    "name": "ipython",
    "version": 3
   },
   "file_extension": ".py",
   "mimetype": "text/x-python",
   "name": "python",
   "nbconvert_exporter": "python",
   "pygments_lexer": "ipython3",
   "version": "3.10.6"
  },
  "orig_nbformat": 4,
  "vscode": {
   "interpreter": {
    "hash": "180aa645fff4cf0d4918a861195c8fcfed2f4385408dd7c1907ff9dad29f11fb"
   }
  }
 },
 "nbformat": 4,
 "nbformat_minor": 2
}
